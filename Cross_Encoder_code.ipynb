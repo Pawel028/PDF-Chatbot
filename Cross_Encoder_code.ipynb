{
 "cells": [
  {
   "cell_type": "code",
   "execution_count": 1,
   "metadata": {},
   "outputs": [
    {
     "name": "stdout",
     "output_type": "stream",
     "text": [
      "embeddings done\n"
     ]
    }
   ],
   "source": [
    "import os\n",
    "import sys\n",
    "import openai\n",
    "from dotenv import load_dotenv\n",
    "from langchain.llms import AzureOpenAI\n",
    "from langchain.chat_models.azure_openai import AzureChatOpenAI\n",
    "from langchain.embeddings import OpenAIEmbeddings\n",
    "from langchain.chains import RetrievalQA\n",
    "from langchain import PromptTemplate, OpenAI, LLMChain\n",
    "import streamlit as st\n",
    "import uuid\n",
    "import pandas as pd\n",
    "from dotenv import load_dotenv, find_dotenv\n",
    "from pyhive import hive\n",
    "import pandas as pd\n",
    "from datetime import datetime, date\n",
    "from defineprompts import classPrompts\n",
    "# from ChatHistory2Server import insert_query, update_query, run_query\n",
    "from Embeddings import classEmbdding\n",
    "from langchain.vectorstores.chroma import Chroma\n",
    "from Get_answers import answer_obj\n",
    "from langchain.chains.chat_vector_db.prompts import CONDENSE_QUESTION_PROMPT\n",
    "\n",
    "load_dotenv(find_dotenv())\n",
    "\n",
    "# openai.api_version = \"2022-12-01\"\n",
    "openai.api_key = os.getenv(\"OPENAI_API_KEY\")\n",
    "embeddings = OpenAIEmbeddings()\n",
    "print(\"embeddings done\")\n",
    "\n",
    "llm_model = OpenAI(model_name=\"gpt-3.5-turbo-0125\") \n",
    "emb_obj = classEmbdding(chroma_url=\"./Chroma\", data_url=\"./\", subfolder=\"Data\")\n",
    "promptObj = classPrompts(prompt_file_loc=\"./Prompts/Prompts.xlsx\")\n",
    "promptObj.def_prompt_file()\n",
    "file_list_Chroma = os.listdir(emb_obj.chroma_url)\n",
    "vectordb = emb_obj.find_Vectordb('Head First Statistics.pdf ( PDFDrive ).pdf')"
   ]
  },
  {
   "cell_type": "markdown",
   "metadata": {},
   "source": [
    "### Query Expansion "
   ]
  },
  {
   "cell_type": "code",
   "execution_count": 2,
   "metadata": {},
   "outputs": [],
   "source": [
    "\n",
    "from langchain.chat_models.azure_openai import AzureChatOpenAI\n",
    "from langchain.chains import ConversationalRetrievalChain\n",
    "from langchain.chains.chat_vector_db.prompts import CONDENSE_QUESTION_PROMPT\n",
    "from langchain.chains.qa_with_sources import load_qa_with_sources_chain\n",
    "\n",
    "# llm_model = AzureChatOpenAI(deployment_name=\"deployment-gpt-35-PHD-chatbot\",\n",
    "# model_name=model_name, openai_api_key=openai.api_key, openai_api_version = \"2023-03-15-preview\",openai_api_base=openai.api_base, api_type=openai.api_type, max_tokens=1000,temperature=0,seed=10,stop=['##','```','\"\"\"'])\n",
    "\n",
    "# llm_model = AzureOpenAI(deployment_name=\"deployment-gpt-4-PHD-chatbot\",\n",
    "# model_name=model_name, openai_api_key=openai.api_key, openai_api_version = \"2023-03-15-preview\",openai_api_base=openai.api_base, \n",
    "# api_type=openai.api_type, max_tokens=1000,temperature=0,seed=10,stop=['##','```','\\n\\n','\"\"\"'])\n",
    "\n",
    "QUERY_PROMPT = PromptTemplate(\n",
    "    input_variables=[\"question\"],\n",
    "    template=\"\"\"You are an AI language model assistant. Your task is to generate five\n",
    "    different versions of the given user question to retrieve relevant documents from a vector\n",
    "    database. By generating multiple perspectives on the user question, your goal is to help\n",
    "    the user overcome some of the limitations of the distance-based similarity search.\n",
    "    Provide these alternative questions separated by newlines. Only provide the query, no numbering.\n",
    "    Original question: {question}\"\"\",\n",
    ")\n",
    "\n",
    "llm_chain = LLMChain(llm=llm_model, prompt=QUERY_PROMPT)\n"
   ]
  },
  {
   "cell_type": "code",
   "execution_count": 3,
   "metadata": {},
   "outputs": [],
   "source": [
    "from langchain.chains import LLMChain\n",
    "from langchain.output_parsers import PydanticOutputParser\n",
    "from langchain.prompts import PromptTemplate\n",
    "from pydantic import BaseModel, Field\n",
    "# import openai\n",
    "\n",
    "query = \"How is Normal distribution different from Poisson Distribution\"\n",
    "queries = llm_chain.invoke(query)"
   ]
  },
  {
   "cell_type": "code",
   "execution_count": 4,
   "metadata": {},
   "outputs": [],
   "source": [
    "queries = queries[\"text\"].split(\"\\n\")\n"
   ]
  },
  {
   "cell_type": "code",
   "execution_count": 5,
   "metadata": {},
   "outputs": [
    {
     "data": {
      "text/plain": [
       "['How does Normal distribution contrast with Poisson Distribution?',\n",
       " 'Explain the differences between Normal distribution and Poisson Distribution.',\n",
       " 'What distinguishes Normal distribution from Poisson Distribution?',\n",
       " 'In what ways are Normal distribution and Poisson Distribution dissimilar?',\n",
       " 'Compare and contrast Normal distribution and Poisson Distribution.']"
      ]
     },
     "execution_count": 5,
     "metadata": {},
     "output_type": "execute_result"
    }
   ],
   "source": [
    "queries"
   ]
  },
  {
   "cell_type": "code",
   "execution_count": 6,
   "metadata": {},
   "outputs": [],
   "source": [
    "docs = [vectordb.similarity_search_with_relevance_scores(query=query, k=5) for query in queries]\n",
    "# docs = [print(query) for query in queries]\n"
   ]
  },
  {
   "cell_type": "code",
   "execution_count": 7,
   "metadata": {},
   "outputs": [
    {
     "data": {
      "text/plain": [
       "[[(Document(page_content='t more robust. When the numbers get high for Poisson and Binomial distributions, they run into trouble. Mind you, I do what I can to help out.\\nHead First: You do? How?Normal: Well under certain circumstances both \\nBinomial and Poisson look like me. It’s uncanny; they’re often stopped at parties by people asking them if  they’re Normal. I tell them to take it as a compliment.\\nHead First: So how does that help?Normal: Well, because they look like me, it means \\nthat you can actually use my probability tables to work out their probabilities. How cool is that? No more late nights slaving over a calculator; just look it up.\\nHead First: I’m afraid that’s all we’ve got time for \\ntonight. Normal, thanks for coming along, it’s been a pleasure.\\nNormal: You’re welcome, Head First.\\nThe Normal Distribution Exposed\\nThis week’s interview:\\nWhy Being Normal Isn’t Dullinterview with the normal distribution\\nDownload at WoweBook.Com', metadata={'page': 1331, 'source': './/Data/Head First Statistics.pdf ( PDFDrive ).pdf'}),\n",
       "   0.8265367529560319),\n",
       "  (Document(page_content='ue within that range. Using the \\nnormal distribution, on the other hand, you \\ncan look up probabilities for whole ranges, \\nand so they’re a lot easier to find. In particular circumstances you \\ncan use the normal distribution to approximate the Poisson. \\nIf  X ~ Po(λ) and λ > 15 then you can \\napproximate X using  X ~ N(λ, λ)  \\uf0a2\\n\\uf0a2If you’re approximating the Poisson \\ndistribution with the normal distribution, then you need to apply a continuity correction to make sure your results are accurate.\\uf0a2\\nUse a continuity correction if you approximate the Poisson distribution \\nwith the normal distribution.bullet points and no dumb questions\\nDownload at WoweBook.Com', metadata={'page': 1355, 'source': './/Data/Head First Statistics.pdf ( PDFDrive ).pdf'}),\n",
       "   0.8173943955543065),\n",
       "  (Document(page_content='can approximate \\nthe binomial? I thought the \\nPoisson did that. What gives?\\nThe Poisson distribution can approximate the binomial in \\nsome situations, but the normal can in others.\\nKnowing how to approximate the binomial distribution with other distributions is \\nuseful because it can cut down on all sorts of  complexities, and in some situations \\nthe Poisson distribution can help us work out some tricky binomial probabilities.\\nIn certain other  circumstances, we can use the normal distribution to approximate \\nth', metadata={'page': 1276, 'source': './/Data/Head First Statistics.pdf ( PDFDrive ).pdf'}),\n",
       "   0.807389703095336),\n",
       "  (Document(page_content='eed.\\nApproximating the Poisson distribution with the normal is very similar \\nto when you use the normal in place of  the binomial. Once you have \\nthe right set of  circumstances, you take the Poisson mean and variance, \\nand use them as parameters in a normal distribution. \\nIf  X ~ Po(λ), this means that the corresponding normal \\napproximation is X ~ N(λ, λ). But when is this true?\\nIt all comes down to the shape of  the distribution.sharpen solution\\nDownload at WoweBook.Com', metadata={'page': 1337, 'source': './/Data/Head First Statistics.pdf ( PDFDrive ).pdf'}),\n",
       "   0.8066512270891524),\n",
       "  (Document(page_content='you are here 4   407using the normal distribution  ii\\nWe can use the normal distribution to approximate the Poisson whenever the \\nPoisson distribution adopts a shape that’s like the normal, but when does this \\nhappen? Let’s take a look.\\nWhen λ is small...\\nWhen λ is small, the shape of  the Poisson distribution is different from \\nthat of  the normal distribution. The shape isn’t symmetrical, and the \\ncurve looks as though it’s “pulled” over to the right.\\nAs the Poisson distribution doesn’t resemble the normal for small values \\nof  λ, the normal distribution isn’t a suitable appr', metadata={'page': 1338, 'source': './/Data/Head First Statistics.pdf ( PDFDrive ).pdf'}),\n",
       "   0.8036131768813659)],\n",
       " [(Document(page_content='ue within that range. Using the \\nnormal distribution, on the other hand, you \\ncan look up probabilities for whole ranges, \\nand so they’re a lot easier to find. In particular circumstances you \\ncan use the normal distribution to approximate the Poisson. \\nIf  X ~ Po(λ) and λ > 15 then you can \\napproximate X using  X ~ N(λ, λ)  \\uf0a2\\n\\uf0a2If you’re approximating the Poisson \\ndistribution with the normal distribution, then you need to apply a continuity correction to make sure your results are accurate.\\uf0a2\\nUse a continuity correction if you approximate the Poisson distribution \\nwith the normal distribution.bullet points and no dumb questions\\nDownload at WoweBook.Com', metadata={'page': 1355, 'source': './/Data/Head First Statistics.pdf ( PDFDrive ).pdf'}),\n",
       "   0.8089994809007853),\n",
       "  (Document(page_content='t more robust. When the numbers get high for Poisson and Binomial distributions, they run into trouble. Mind you, I do what I can to help out.\\nHead First: You do? How?Normal: Well under certain circumstances both \\nBinomial and Poisson look like me. It’s uncanny; they’re often stopped at parties by people asking them if  they’re Normal. I tell them to take it as a compliment.\\nHead First: So how does that help?Normal: Well, because they look like me, it means \\nthat you can actually use my probability tables to work out their probabilities. How cool is that? No more late nights slaving over a calculator; just look it up.\\nHead First: I’m afraid that’s all we’ve got time for \\ntonight. Normal, thanks for coming along, it’s been a pleasure.\\nNormal: You’re welcome, Head First.\\nThe Normal Distribution Exposed\\nThis week’s interview:\\nWhy Being Normal Isn’t Dullinterview with the normal distribution\\nDownload at WoweBook.Com', metadata={'page': 1331, 'source': './/Data/Head First Statistics.pdf ( PDFDrive ).pdf'}),\n",
       "   0.803151205274838),\n",
       "  (Document(page_content='babilities\\nSince X follows a normal distribution, this means that you can use standard \\nnormal probability tables to look up probabilities. In other words, you can \\nfind probabilities in exactly the same way you would for any other normal \\ndistribution.In general, you take the distribution X ~ N(μ, σ2/n) and substitute in values for \\nμ and σ2.For the Poisson distribution, the mean and variance \\nare both λ. If we substitute this into the sampling \\ndistribution, we get X ~ N( λ, λ/n).central limit theorem\\nDownload at WoweBook.Com', metadata={'page': 1565, 'source': './/Data/Head First Statistics.pdf ( PDFDrive ).pdf'}),\n",
       "   0.797133520391301),\n",
       "  (Document(page_content='you are here 4   407using the normal distribution  ii\\nWe can use the normal distribution to approximate the Poisson whenever the \\nPoisson distribution adopts a shape that’s like the normal, but when does this \\nhappen? Let’s take a look.\\nWhen λ is small...\\nWhen λ is small, the shape of  the Poisson distribution is different from \\nthat of  the normal distribution. The shape isn’t symmetrical, and the \\ncurve looks as though it’s “pulled” over to the right.\\nAs the Poisson distribution doesn’t resemble the normal for small values \\nof  λ, the normal distribution isn’t a suitable appr', metadata={'page': 1338, 'source': './/Data/Head First Statistics.pdf ( PDFDrive ).pdf'}),\n",
       "   0.7928422125696188),\n",
       "  (Document(page_content='ion.  \\nSo far we’ve looked at probability distributions where we’ve been able to specify exact \\nvalues, but this isn’t the case for every set of data. Some types of data just don’t fit  the \\nprobability distributions we’ve encountered so far. In this chapter, we’ll take a look at how continuous probability distributions  work, and introduce you to one of the most \\nimportant probability distributions in town—the normal distribution .using the normal distribution\\n8\\nDownload at WoweBook.Com', metadata={'page': 56, 'source': './/Data/Head First Statistics.pdf ( PDFDrive ).pdf'}),\n",
       "   0.7919119473292864)],\n",
       " [(Document(page_content='ue within that range. Using the \\nnormal distribution, on the other hand, you \\ncan look up probabilities for whole ranges, \\nand so they’re a lot easier to find. In particular circumstances you \\ncan use the normal distribution to approximate the Poisson. \\nIf  X ~ Po(λ) and λ > 15 then you can \\napproximate X using  X ~ N(λ, λ)  \\uf0a2\\n\\uf0a2If you’re approximating the Poisson \\ndistribution with the normal distribution, then you need to apply a continuity correction to make sure your results are accurate.\\uf0a2\\nUse a continuity correction if you approximate the Poisson distribution \\nwith the normal distribution.bullet points and no dumb questions\\nDownload at WoweBook.Com', metadata={'page': 1355, 'source': './/Data/Head First Statistics.pdf ( PDFDrive ).pdf'}),\n",
       "   0.8066369182340829),\n",
       "  (Document(page_content='t more robust. When the numbers get high for Poisson and Binomial distributions, they run into trouble. Mind you, I do what I can to help out.\\nHead First: You do? How?Normal: Well under certain circumstances both \\nBinomial and Poisson look like me. It’s uncanny; they’re often stopped at parties by people asking them if  they’re Normal. I tell them to take it as a compliment.\\nHead First: So how does that help?Normal: Well, because they look like me, it means \\nthat you can actually use my probability tables to work out their probabilities. How cool is that? No more late nights slaving over a calculator; just look it up.\\nHead First: I’m afraid that’s all we’ve got time for \\ntonight. Normal, thanks for coming along, it’s been a pleasure.\\nNormal: You’re welcome, Head First.\\nThe Normal Distribution Exposed\\nThis week’s interview:\\nWhy Being Normal Isn’t Dullinterview with the normal distribution\\nDownload at WoweBook.Com', metadata={'page': 1331, 'source': './/Data/Head First Statistics.pdf ( PDFDrive ).pdf'}),\n",
       "   0.8048472998260376),\n",
       "  (Document(page_content='you are here 4   407using the normal distribution  ii\\nWe can use the normal distribution to approximate the Poisson whenever the \\nPoisson distribution adopts a shape that’s like the normal, but when does this \\nhappen? Let’s take a look.\\nWhen λ is small...\\nWhen λ is small, the shape of  the Poisson distribution is different from \\nthat of  the normal distribution. The shape isn’t symmetrical, and the \\ncurve looks as though it’s “pulled” over to the right.\\nAs the Poisson distribution doesn’t resemble the normal for small values \\nof  λ, the normal distribution isn’t a suitable appr', metadata={'page': 1338, 'source': './/Data/Head First Statistics.pdf ( PDFDrive ).pdf'}),\n",
       "   0.8017787352999292),\n",
       "  (Document(page_content='can approximate \\nthe binomial? I thought the \\nPoisson did that. What gives?\\nThe Poisson distribution can approximate the binomial in \\nsome situations, but the normal can in others.\\nKnowing how to approximate the binomial distribution with other distributions is \\nuseful because it can cut down on all sorts of  complexities, and in some situations \\nthe Poisson distribution can help us work out some tricky binomial probabilities.\\nIn certain other  circumstances, we can use the normal distribution to approximate \\nth', metadata={'page': 1276, 'source': './/Data/Head First Statistics.pdf ( PDFDrive ).pdf'}),\n",
       "   0.7952915345239808),\n",
       "  (Document(page_content='eed.\\nApproximating the Poisson distribution with the normal is very similar \\nto when you use the normal in place of  the binomial. Once you have \\nthe right set of  circumstances, you take the Poisson mean and variance, \\nand use them as parameters in a normal distribution. \\nIf  X ~ Po(λ), this means that the corresponding normal \\napproximation is X ~ N(λ, λ). But when is this true?\\nIt all comes down to the shape of  the distribution.sharpen solution\\nDownload at WoweBook.Com', metadata={'page': 1337, 'source': './/Data/Head First Statistics.pdf ( PDFDrive ).pdf'}),\n",
       "   0.7925380598373399)],\n",
       " [(Document(page_content='t more robust. When the numbers get high for Poisson and Binomial distributions, they run into trouble. Mind you, I do what I can to help out.\\nHead First: You do? How?Normal: Well under certain circumstances both \\nBinomial and Poisson look like me. It’s uncanny; they’re often stopped at parties by people asking them if  they’re Normal. I tell them to take it as a compliment.\\nHead First: So how does that help?Normal: Well, because they look like me, it means \\nthat you can actually use my probability tables to work out their probabilities. How cool is that? No more late nights slaving over a calculator; just look it up.\\nHead First: I’m afraid that’s all we’ve got time for \\ntonight. Normal, thanks for coming along, it’s been a pleasure.\\nNormal: You’re welcome, Head First.\\nThe Normal Distribution Exposed\\nThis week’s interview:\\nWhy Being Normal Isn’t Dullinterview with the normal distribution\\nDownload at WoweBook.Com', metadata={'page': 1331, 'source': './/Data/Head First Statistics.pdf ( PDFDrive ).pdf'}),\n",
       "   0.8062997855928442),\n",
       "  (Document(page_content='can approximate \\nthe binomial? I thought the \\nPoisson did that. What gives?\\nThe Poisson distribution can approximate the binomial in \\nsome situations, but the normal can in others.\\nKnowing how to approximate the binomial distribution with other distributions is \\nuseful because it can cut down on all sorts of  complexities, and in some situations \\nthe Poisson distribution can help us work out some tricky binomial probabilities.\\nIn certain other  circumstances, we can use the normal distribution to approximate \\nth', metadata={'page': 1276, 'source': './/Data/Head First Statistics.pdf ( PDFDrive ).pdf'}),\n",
       "   0.79749328589019),\n",
       "  (Document(page_content='412  Chapter 9Q:  You can approximate the binomial \\nand Poisson distributions with the \\nnormal, but what about the geometric \\ndisribution? Can the normal distribution \\never approximate that?\\nA:  We were able to use the normal \\ndistribution in place of the binomial and \\nPoisson distributions because under \\nparticular circumstances, these distributions \\nadopt the same shape as the normal.  \\nThe geometric distribution, on the other hand, \\nnever looks like the normal, so the normal \\ncan never effectively approximate it. Q:  Do I have to use a continuity \\ncorrection if I approximate the Poisson \\ndistribution with the normal distribution?\\nA:  Yes. This is', metadata={'page': 1353, 'source': './/Data/Head First Statistics.pdf ( PDFDrive ).pdf'}),\n",
       "   0.7939196546049513),\n",
       "  (Document(page_content='you are here 4   407using the normal distribution  ii\\nWe can use the normal distribution to approximate the Poisson whenever the \\nPoisson distribution adopts a shape that’s like the normal, but when does this \\nhappen? Let’s take a look.\\nWhen λ is small...\\nWhen λ is small, the shape of  the Poisson distribution is different from \\nthat of  the normal distribution. The shape isn’t symmetrical, and the \\ncurve looks as though it’s “pulled” over to the right.\\nAs the Poisson distribution doesn’t resemble the normal for small values \\nof  λ, the normal distribution isn’t a suitable appr', metadata={'page': 1338, 'source': './/Data/Head First Statistics.pdf ( PDFDrive ).pdf'}),\n",
       "   0.792753788481443),\n",
       "  (Document(page_content='ue within that range. Using the \\nnormal distribution, on the other hand, you \\ncan look up probabilities for whole ranges, \\nand so they’re a lot easier to find. In particular circumstances you \\ncan use the normal distribution to approximate the Poisson. \\nIf  X ~ Po(λ) and λ > 15 then you can \\napproximate X using  X ~ N(λ, λ)  \\uf0a2\\n\\uf0a2If you’re approximating the Poisson \\ndistribution with the normal distribution, then you need to apply a continuity correction to make sure your results are accurate.\\uf0a2\\nUse a continuity correction if you approximate the Poisson distribution \\nwith the normal distribution.bullet points and no dumb questions\\nDownload at WoweBook.Com', metadata={'page': 1355, 'source': './/Data/Head First Statistics.pdf ( PDFDrive ).pdf'}),\n",
       "   0.7923122791698671)],\n",
       " [(Document(page_content='ue within that range. Using the \\nnormal distribution, on the other hand, you \\ncan look up probabilities for whole ranges, \\nand so they’re a lot easier to find. In particular circumstances you \\ncan use the normal distribution to approximate the Poisson. \\nIf  X ~ Po(λ) and λ > 15 then you can \\napproximate X using  X ~ N(λ, λ)  \\uf0a2\\n\\uf0a2If you’re approximating the Poisson \\ndistribution with the normal distribution, then you need to apply a continuity correction to make sure your results are accurate.\\uf0a2\\nUse a continuity correction if you approximate the Poisson distribution \\nwith the normal distribution.bullet points and no dumb questions\\nDownload at WoweBook.Com', metadata={'page': 1355, 'source': './/Data/Head First Statistics.pdf ( PDFDrive ).pdf'}),\n",
       "   0.8203274790358767),\n",
       "  (Document(page_content='t more robust. When the numbers get high for Poisson and Binomial distributions, they run into trouble. Mind you, I do what I can to help out.\\nHead First: You do? How?Normal: Well under certain circumstances both \\nBinomial and Poisson look like me. It’s uncanny; they’re often stopped at parties by people asking them if  they’re Normal. I tell them to take it as a compliment.\\nHead First: So how does that help?Normal: Well, because they look like me, it means \\nthat you can actually use my probability tables to work out their probabilities. How cool is that? No more late nights slaving over a calculator; just look it up.\\nHead First: I’m afraid that’s all we’ve got time for \\ntonight. Normal, thanks for coming along, it’s been a pleasure.\\nNormal: You’re welcome, Head First.\\nThe Normal Distribution Exposed\\nThis week’s interview:\\nWhy Being Normal Isn’t Dullinterview with the normal distribution\\nDownload at WoweBook.Com', metadata={'page': 1331, 'source': './/Data/Head First Statistics.pdf ( PDFDrive ).pdf'}),\n",
       "   0.8126845273800626),\n",
       "  (Document(page_content='eed.\\nApproximating the Poisson distribution with the normal is very similar \\nto when you use the normal in place of  the binomial. Once you have \\nthe right set of  circumstances, you take the Poisson mean and variance, \\nand use them as parameters in a normal distribution. \\nIf  X ~ Po(λ), this means that the corresponding normal \\napproximation is X ~ N(λ, λ). But when is this true?\\nIt all comes down to the shape of  the distribution.sharpen solution\\nDownload at WoweBook.Com', metadata={'page': 1337, 'source': './/Data/Head First Statistics.pdf ( PDFDrive ).pdf'}),\n",
       "   0.8047513314519783),\n",
       "  (Document(page_content='babilities\\nSince X follows a normal distribution, this means that you can use standard \\nnormal probability tables to look up probabilities. In other words, you can \\nfind probabilities in exactly the same way you would for any other normal \\ndistribution.In general, you take the distribution X ~ N(μ, σ2/n) and substitute in values for \\nμ and σ2.For the Poisson distribution, the mean and variance \\nare both λ. If we substitute this into the sampling \\ndistribution, we get X ~ N( λ, λ/n).central limit theorem\\nDownload at WoweBook.Com', metadata={'page': 1565, 'source': './/Data/Head First Statistics.pdf ( PDFDrive ).pdf'}),\n",
       "   0.8035300211492539),\n",
       "  (Document(page_content='412  Chapter 9Q:  You can approximate the binomial \\nand Poisson distributions with the \\nnormal, but what about the geometric \\ndisribution? Can the normal distribution \\never approximate that?\\nA:  We were able to use the normal \\ndistribution in place of the binomial and \\nPoisson distributions because under \\nparticular circumstances, these distributions \\nadopt the same shape as the normal.  \\nThe geometric distribution, on the other hand, \\nnever looks like the normal, so the normal \\ncan never effectively approximate it. Q:  Do I have to use a continuity \\ncorrection if I approximate the Poisson \\ndistribution with the normal distribution?\\nA:  Yes. This is', metadata={'page': 1353, 'source': './/Data/Head First Statistics.pdf ( PDFDrive ).pdf'}),\n",
       "   0.803329486444039)]]"
      ]
     },
     "execution_count": 7,
     "metadata": {},
     "output_type": "execute_result"
    }
   ],
   "source": [
    "# docs[0][0][0].page_content\n",
    "docs"
   ]
  },
  {
   "cell_type": "code",
   "execution_count": 8,
   "metadata": {},
   "outputs": [],
   "source": [
    "unique_contents = set()\n",
    "unique_docs = []\n",
    "for sublist in docs:\n",
    "    for doc in sublist:\n",
    "        # print(doc[0].page_content)\n",
    "        if doc[0].page_content not in unique_contents:\n",
    "            unique_docs.append(doc[0])\n",
    "            unique_contents.add(doc[0].page_content)\n",
    "unique_contents = list(unique_contents)"
   ]
  },
  {
   "cell_type": "code",
   "execution_count": 9,
   "metadata": {},
   "outputs": [
    {
     "data": {
      "text/plain": [
       "8"
      ]
     },
     "execution_count": 9,
     "metadata": {},
     "output_type": "execute_result"
    }
   ],
   "source": [
    "len(unique_contents)"
   ]
  },
  {
   "cell_type": "markdown",
   "metadata": {},
   "source": [
    "# Cross-encoder re-ranking"
   ]
  },
  {
   "cell_type": "code",
   "execution_count": 10,
   "metadata": {},
   "outputs": [],
   "source": [
    "from sentence_transformers import CrossEncoder\n",
    "cross_encoder = CrossEncoder('cross-encoder/ms-marco-MiniLM-L-6-v2')"
   ]
  },
  {
   "cell_type": "code",
   "execution_count": 11,
   "metadata": {},
   "outputs": [],
   "source": [
    "pairs = []\n",
    "for doc in unique_contents:\n",
    "    pairs.append([query, doc])"
   ]
  },
  {
   "cell_type": "code",
   "execution_count": 12,
   "metadata": {},
   "outputs": [
    {
     "data": {
      "text/plain": [
       "array([-3.1980243,  4.8224363,  4.2630672,  6.3469   ,  4.0589523,\n",
       "        8.337034 ,  6.6783357,  6.118797 ], dtype=float32)"
      ]
     },
     "execution_count": 12,
     "metadata": {},
     "output_type": "execute_result"
    }
   ],
   "source": [
    "scores = cross_encoder.predict(pairs)\n",
    "scores"
   ]
  },
  {
   "cell_type": "code",
   "execution_count": 13,
   "metadata": {},
   "outputs": [
    {
     "data": {
      "text/plain": [
       "[(8.337034,\n",
       "  'you are here 4   407using the normal distribution  ii\\nWe can use the normal distribution to approximate the Poisson whenever the \\nPoisson distribution adopts a shape that’s like the normal, but when does this \\nhappen? Let’s take a look.\\nWhen λ is small...\\nWhen λ is small, the shape of  the Poisson distribution is different from \\nthat of  the normal distribution. The shape isn’t symmetrical, and the \\ncurve looks as though it’s “pulled” over to the right.\\nAs the Poisson distribution doesn’t resemble the normal for small values \\nof  λ, the normal distribution isn’t a suitable appr'),\n",
       " (6.6783357,\n",
       "  'ue within that range. Using the \\nnormal distribution, on the other hand, you \\ncan look up probabilities for whole ranges, \\nand so they’re a lot easier to find. In particular circumstances you \\ncan use the normal distribution to approximate the Poisson. \\nIf  X ~ Po(λ) and λ > 15 then you can \\napproximate X using  X ~ N(λ, λ)  \\uf0a2\\n\\uf0a2If you’re approximating the Poisson \\ndistribution with the normal distribution, then you need to apply a continuity correction to make sure your results are accurate.\\uf0a2\\nUse a continuity correction if you approximate the Poisson distribution \\nwith the normal distribution.bullet points and no dumb questions\\nDownload at WoweBook.Com'),\n",
       " (6.3469,\n",
       "  'eed.\\nApproximating the Poisson distribution with the normal is very similar \\nto when you use the normal in place of  the binomial. Once you have \\nthe right set of  circumstances, you take the Poisson mean and variance, \\nand use them as parameters in a normal distribution. \\nIf  X ~ Po(λ), this means that the corresponding normal \\napproximation is X ~ N(λ, λ). But when is this true?\\nIt all comes down to the shape of  the distribution.sharpen solution\\nDownload at WoweBook.Com'),\n",
       " (6.118797,\n",
       "  '412  Chapter 9Q:  You can approximate the binomial \\nand Poisson distributions with the \\nnormal, but what about the geometric \\ndisribution? Can the normal distribution \\never approximate that?\\nA:  We were able to use the normal \\ndistribution in place of the binomial and \\nPoisson distributions because under \\nparticular circumstances, these distributions \\nadopt the same shape as the normal.  \\nThe geometric distribution, on the other hand, \\nnever looks like the normal, so the normal \\ncan never effectively approximate it. Q:  Do I have to use a continuity \\ncorrection if I approximate the Poisson \\ndistribution with the normal distribution?\\nA:  Yes. This is'),\n",
       " (4.8224363,\n",
       "  'can approximate \\nthe binomial? I thought the \\nPoisson did that. What gives?\\nThe Poisson distribution can approximate the binomial in \\nsome situations, but the normal can in others.\\nKnowing how to approximate the binomial distribution with other distributions is \\nuseful because it can cut down on all sorts of  complexities, and in some situations \\nthe Poisson distribution can help us work out some tricky binomial probabilities.\\nIn certain other  circumstances, we can use the normal distribution to approximate \\nth'),\n",
       " (4.2630672,\n",
       "  't more robust. When the numbers get high for Poisson and Binomial distributions, they run into trouble. Mind you, I do what I can to help out.\\nHead First: You do? How?Normal: Well under certain circumstances both \\nBinomial and Poisson look like me. It’s uncanny; they’re often stopped at parties by people asking them if  they’re Normal. I tell them to take it as a compliment.\\nHead First: So how does that help?Normal: Well, because they look like me, it means \\nthat you can actually use my probability tables to work out their probabilities. How cool is that? No more late nights slaving over a calculator; just look it up.\\nHead First: I’m afraid that’s all we’ve got time for \\ntonight. Normal, thanks for coming along, it’s been a pleasure.\\nNormal: You’re welcome, Head First.\\nThe Normal Distribution Exposed\\nThis week’s interview:\\nWhy Being Normal Isn’t Dullinterview with the normal distribution\\nDownload at WoweBook.Com'),\n",
       " (4.0589523,\n",
       "  'babilities\\nSince X follows a normal distribution, this means that you can use standard \\nnormal probability tables to look up probabilities. In other words, you can \\nfind probabilities in exactly the same way you would for any other normal \\ndistribution.In general, you take the distribution X ~ N(μ, σ2/n) and substitute in values for \\nμ and σ2.For the Poisson distribution, the mean and variance \\nare both λ. If we substitute this into the sampling \\ndistribution, we get X ~ N( λ, λ/n).central limit theorem\\nDownload at WoweBook.Com'),\n",
       " (-3.1980243,\n",
       "  'ion.  \\nSo far we’ve looked at probability distributions where we’ve been able to specify exact \\nvalues, but this isn’t the case for every set of data. Some types of data just don’t fit  the \\nprobability distributions we’ve encountered so far. In this chapter, we’ll take a look at how continuous probability distributions  work, and introduce you to one of the most \\nimportant probability distributions in town—the normal distribution .using the normal distribution\\n8\\nDownload at WoweBook.Com')]"
      ]
     },
     "execution_count": 13,
     "metadata": {},
     "output_type": "execute_result"
    }
   ],
   "source": [
    "scored_docs = zip(scores, unique_contents)\n",
    "sorted_docs = sorted(scored_docs, reverse=True)\n",
    "sorted_docs"
   ]
  },
  {
   "cell_type": "code",
   "execution_count": 14,
   "metadata": {},
   "outputs": [
    {
     "data": {
      "text/plain": [
       "['you are here 4   407using the normal distribution  ii\\nWe can use the normal distribution to approximate the Poisson whenever the \\nPoisson distribution adopts a shape that’s like the normal, but when does this \\nhappen? Let’s take a look.\\nWhen λ is small...\\nWhen λ is small, the shape of  the Poisson distribution is different from \\nthat of  the normal distribution. The shape isn’t symmetrical, and the \\ncurve looks as though it’s “pulled” over to the right.\\nAs the Poisson distribution doesn’t resemble the normal for small values \\nof  λ, the normal distribution isn’t a suitable appr',\n",
       " 'ue within that range. Using the \\nnormal distribution, on the other hand, you \\ncan look up probabilities for whole ranges, \\nand so they’re a lot easier to find. In particular circumstances you \\ncan use the normal distribution to approximate the Poisson. \\nIf  X ~ Po(λ) and λ > 15 then you can \\napproximate X using  X ~ N(λ, λ)  \\uf0a2\\n\\uf0a2If you’re approximating the Poisson \\ndistribution with the normal distribution, then you need to apply a continuity correction to make sure your results are accurate.\\uf0a2\\nUse a continuity correction if you approximate the Poisson distribution \\nwith the normal distribution.bullet points and no dumb questions\\nDownload at WoweBook.Com',\n",
       " 'eed.\\nApproximating the Poisson distribution with the normal is very similar \\nto when you use the normal in place of  the binomial. Once you have \\nthe right set of  circumstances, you take the Poisson mean and variance, \\nand use them as parameters in a normal distribution. \\nIf  X ~ Po(λ), this means that the corresponding normal \\napproximation is X ~ N(λ, λ). But when is this true?\\nIt all comes down to the shape of  the distribution.sharpen solution\\nDownload at WoweBook.Com',\n",
       " '412  Chapter 9Q:  You can approximate the binomial \\nand Poisson distributions with the \\nnormal, but what about the geometric \\ndisribution? Can the normal distribution \\never approximate that?\\nA:  We were able to use the normal \\ndistribution in place of the binomial and \\nPoisson distributions because under \\nparticular circumstances, these distributions \\nadopt the same shape as the normal.  \\nThe geometric distribution, on the other hand, \\nnever looks like the normal, so the normal \\ncan never effectively approximate it. Q:  Do I have to use a continuity \\ncorrection if I approximate the Poisson \\ndistribution with the normal distribution?\\nA:  Yes. This is',\n",
       " 'can approximate \\nthe binomial? I thought the \\nPoisson did that. What gives?\\nThe Poisson distribution can approximate the binomial in \\nsome situations, but the normal can in others.\\nKnowing how to approximate the binomial distribution with other distributions is \\nuseful because it can cut down on all sorts of  complexities, and in some situations \\nthe Poisson distribution can help us work out some tricky binomial probabilities.\\nIn certain other  circumstances, we can use the normal distribution to approximate \\nth',\n",
       " 't more robust. When the numbers get high for Poisson and Binomial distributions, they run into trouble. Mind you, I do what I can to help out.\\nHead First: You do? How?Normal: Well under certain circumstances both \\nBinomial and Poisson look like me. It’s uncanny; they’re often stopped at parties by people asking them if  they’re Normal. I tell them to take it as a compliment.\\nHead First: So how does that help?Normal: Well, because they look like me, it means \\nthat you can actually use my probability tables to work out their probabilities. How cool is that? No more late nights slaving over a calculator; just look it up.\\nHead First: I’m afraid that’s all we’ve got time for \\ntonight. Normal, thanks for coming along, it’s been a pleasure.\\nNormal: You’re welcome, Head First.\\nThe Normal Distribution Exposed\\nThis week’s interview:\\nWhy Being Normal Isn’t Dullinterview with the normal distribution\\nDownload at WoweBook.Com',\n",
       " 'babilities\\nSince X follows a normal distribution, this means that you can use standard \\nnormal probability tables to look up probabilities. In other words, you can \\nfind probabilities in exactly the same way you would for any other normal \\ndistribution.In general, you take the distribution X ~ N(μ, σ2/n) and substitute in values for \\nμ and σ2.For the Poisson distribution, the mean and variance \\nare both λ. If we substitute this into the sampling \\ndistribution, we get X ~ N( λ, λ/n).central limit theorem\\nDownload at WoweBook.Com',\n",
       " 'ion.  \\nSo far we’ve looked at probability distributions where we’ve been able to specify exact \\nvalues, but this isn’t the case for every set of data. Some types of data just don’t fit  the \\nprobability distributions we’ve encountered so far. In this chapter, we’ll take a look at how continuous probability distributions  work, and introduce you to one of the most \\nimportant probability distributions in town—the normal distribution .using the normal distribution\\n8\\nDownload at WoweBook.Com']"
      ]
     },
     "execution_count": 14,
     "metadata": {},
     "output_type": "execute_result"
    }
   ],
   "source": [
    "reranked_docs = [doc for _, doc in sorted_docs][0:8]\n",
    "reranked_docs"
   ]
  },
  {
   "cell_type": "markdown",
   "metadata": {},
   "source": [
    "### Lost in the middle Problem"
   ]
  },
  {
   "cell_type": "code",
   "execution_count": 15,
   "metadata": {},
   "outputs": [],
   "source": [
    "from langchain_community.document_transformers import (\n",
    "    LongContextReorder\n",
    ")"
   ]
  },
  {
   "cell_type": "code",
   "execution_count": 16,
   "metadata": {},
   "outputs": [
    {
     "data": {
      "text/plain": [
       "['ue within that range. Using the \\nnormal distribution, on the other hand, you \\ncan look up probabilities for whole ranges, \\nand so they’re a lot easier to find. In particular circumstances you \\ncan use the normal distribution to approximate the Poisson. \\nIf  X ~ Po(λ) and λ > 15 then you can \\napproximate X using  X ~ N(λ, λ)  \\uf0a2\\n\\uf0a2If you’re approximating the Poisson \\ndistribution with the normal distribution, then you need to apply a continuity correction to make sure your results are accurate.\\uf0a2\\nUse a continuity correction if you approximate the Poisson distribution \\nwith the normal distribution.bullet points and no dumb questions\\nDownload at WoweBook.Com',\n",
       " '412  Chapter 9Q:  You can approximate the binomial \\nand Poisson distributions with the \\nnormal, but what about the geometric \\ndisribution? Can the normal distribution \\never approximate that?\\nA:  We were able to use the normal \\ndistribution in place of the binomial and \\nPoisson distributions because under \\nparticular circumstances, these distributions \\nadopt the same shape as the normal.  \\nThe geometric distribution, on the other hand, \\nnever looks like the normal, so the normal \\ncan never effectively approximate it. Q:  Do I have to use a continuity \\ncorrection if I approximate the Poisson \\ndistribution with the normal distribution?\\nA:  Yes. This is',\n",
       " 't more robust. When the numbers get high for Poisson and Binomial distributions, they run into trouble. Mind you, I do what I can to help out.\\nHead First: You do? How?Normal: Well under certain circumstances both \\nBinomial and Poisson look like me. It’s uncanny; they’re often stopped at parties by people asking them if  they’re Normal. I tell them to take it as a compliment.\\nHead First: So how does that help?Normal: Well, because they look like me, it means \\nthat you can actually use my probability tables to work out their probabilities. How cool is that? No more late nights slaving over a calculator; just look it up.\\nHead First: I’m afraid that’s all we’ve got time for \\ntonight. Normal, thanks for coming along, it’s been a pleasure.\\nNormal: You’re welcome, Head First.\\nThe Normal Distribution Exposed\\nThis week’s interview:\\nWhy Being Normal Isn’t Dullinterview with the normal distribution\\nDownload at WoweBook.Com',\n",
       " 'ion.  \\nSo far we’ve looked at probability distributions where we’ve been able to specify exact \\nvalues, but this isn’t the case for every set of data. Some types of data just don’t fit  the \\nprobability distributions we’ve encountered so far. In this chapter, we’ll take a look at how continuous probability distributions  work, and introduce you to one of the most \\nimportant probability distributions in town—the normal distribution .using the normal distribution\\n8\\nDownload at WoweBook.Com',\n",
       " 'babilities\\nSince X follows a normal distribution, this means that you can use standard \\nnormal probability tables to look up probabilities. In other words, you can \\nfind probabilities in exactly the same way you would for any other normal \\ndistribution.In general, you take the distribution X ~ N(μ, σ2/n) and substitute in values for \\nμ and σ2.For the Poisson distribution, the mean and variance \\nare both λ. If we substitute this into the sampling \\ndistribution, we get X ~ N( λ, λ/n).central limit theorem\\nDownload at WoweBook.Com',\n",
       " 'can approximate \\nthe binomial? I thought the \\nPoisson did that. What gives?\\nThe Poisson distribution can approximate the binomial in \\nsome situations, but the normal can in others.\\nKnowing how to approximate the binomial distribution with other distributions is \\nuseful because it can cut down on all sorts of  complexities, and in some situations \\nthe Poisson distribution can help us work out some tricky binomial probabilities.\\nIn certain other  circumstances, we can use the normal distribution to approximate \\nth',\n",
       " 'eed.\\nApproximating the Poisson distribution with the normal is very similar \\nto when you use the normal in place of  the binomial. Once you have \\nthe right set of  circumstances, you take the Poisson mean and variance, \\nand use them as parameters in a normal distribution. \\nIf  X ~ Po(λ), this means that the corresponding normal \\napproximation is X ~ N(λ, λ). But when is this true?\\nIt all comes down to the shape of  the distribution.sharpen solution\\nDownload at WoweBook.Com',\n",
       " 'you are here 4   407using the normal distribution  ii\\nWe can use the normal distribution to approximate the Poisson whenever the \\nPoisson distribution adopts a shape that’s like the normal, but when does this \\nhappen? Let’s take a look.\\nWhen λ is small...\\nWhen λ is small, the shape of  the Poisson distribution is different from \\nthat of  the normal distribution. The shape isn’t symmetrical, and the \\ncurve looks as though it’s “pulled” over to the right.\\nAs the Poisson distribution doesn’t resemble the normal for small values \\nof  λ, the normal distribution isn’t a suitable appr']"
      ]
     },
     "execution_count": 16,
     "metadata": {},
     "output_type": "execute_result"
    }
   ],
   "source": [
    "reordering = LongContextReorder()\n",
    "reordered_docs = reordering.transform_documents(reranked_docs)\n",
    "reordered_docs"
   ]
  },
  {
   "cell_type": "code",
   "execution_count": 17,
   "metadata": {},
   "outputs": [],
   "source": [
    "vectors = embeddings.embed_documents(reranked_docs)"
   ]
  },
  {
   "cell_type": "code",
   "execution_count": 18,
   "metadata": {},
   "outputs": [],
   "source": [
    "# vectors[2]"
   ]
  },
  {
   "cell_type": "code",
   "execution_count": 19,
   "metadata": {},
   "outputs": [
    {
     "name": "stdout",
     "output_type": "stream",
     "text": [
      "[0.23252809 0.20266261 0.16230698 0.13282402 0.09541651]\n",
      "[0.45342479 0.42330594 0.37882283 0.3426935  0.2904553 ]\n"
     ]
    }
   ],
   "source": [
    "# import umap\n",
    "import numpy as np\n",
    "from tqdm import tqdm\n",
    "from sklearn.decomposition import PCA\n",
    "pca = PCA(n_components=5,svd_solver='full')\n",
    "pca.fit(vectors)\n",
    "print(pca.explained_variance_ratio_)\n",
    "print(pca.singular_values_)\n",
    "# umap_transformer = umap.UMAP(random_state=0, transform_seed=0).fit(vectors)"
   ]
  },
  {
   "cell_type": "code",
   "execution_count": 20,
   "metadata": {},
   "outputs": [],
   "source": [
    "from matplotlib import pyplot as plt   \n",
    "def plot_vetors(query, embeddings,vectors):\n",
    "    pca = PCA(n_components=2,svd_solver='full')\n",
    "    pca.fit(vectors)\n",
    "    query_vector = embeddings.embed_documents([query])\n",
    "    trans_global_vectors = pca.transform((vectors))\n",
    "    trans_query_vector = pca.transform((query_vector))\n",
    "    close_texts = vectordb.similarity_search_with_relevance_scores(query=query, k=5)\n",
    "    unique_contents = []\n",
    "    for i in range(len(close_texts)):\n",
    "        unique_contents.append(close_texts[i][0].page_content)\n",
    "    print(unique_contents)\n",
    "\n",
    "    close_vector = embeddings.embed_documents(unique_contents)\n",
    "    trans_close_vector = pca.transform((close_vector))\n",
    "\n",
    "\n",
    "    plt.figure()\n",
    "    plt.scatter(trans_global_vectors[:, 0], trans_global_vectors[:, 1], s=10, color='gray')\n",
    "    plt.scatter(trans_query_vector[:, 0], trans_query_vector[:, 1], s=150, marker='X', color='r')\n",
    "    plt.scatter(trans_close_vector[:, 0], trans_close_vector[:, 1], s=50, facecolors='none', edgecolors='g')\n",
    "    plt.gca().set_aspect('equal', 'datalim')\n",
    "    plt.title(f'{query}')\n",
    "    plt.axis('off')\n",
    "    plt.show()\n",
    "\n",
    "    return trans_global_vectors\n"
   ]
  },
  {
   "cell_type": "code",
   "execution_count": 21,
   "metadata": {},
   "outputs": [],
   "source": [
    "from langchain.document_loaders import PyPDFLoader\n",
    "from langchain.schema import Document\n",
    "from langchain.text_splitter import CharacterTextSplitter\n",
    "loader_url = 'Data\\Head First Statistics.pdf ( PDFDrive ).pdf'\n",
    "loader = PyPDFLoader(loader_url)\n",
    "document = loader.load()\n",
    "\n",
    "\n",
    "document1 = [Document(page_content = '', metadata = {'source':'', 'page':0})]\n",
    "for i in range(len(document)):\n",
    "    n_tokens = len(document[i].page_content)\n",
    "    n_tokens1=n_tokens-n_tokens%3\n",
    "    source = document[i].metadata['source']\n",
    "\n",
    "    text1 = Document(page_content=document[i].page_content[0:int(n_tokens1/3)], metadata={'source':source, 'page':3*i},)\n",
    "    text2 = Document(page_content=document[i].page_content[int(n_tokens1/3):int(2*n_tokens1/3)], metadata={'source':source, 'page':3*i+1},)\n",
    "    text3 = Document(page_content=document[i].page_content[int(2*n_tokens1/3):int(n_tokens)], metadata={'source':source, 'page':3*i+2},)\n",
    "\n",
    "    document1.append(text1)\n",
    "    document1.append(text2)\n",
    "    document1.append(text3)\n",
    "\n",
    "# print(j, len(document1))\n"
   ]
  },
  {
   "cell_type": "code",
   "execution_count": 29,
   "metadata": {},
   "outputs": [],
   "source": [
    "text_splitter = CharacterTextSplitter(chunk_size=1000, chunk_overlap=0)\n",
    "texts = text_splitter.split_documents(document1)\n",
    "texts_set = []\n",
    "for i in range(len(texts)):\n",
    "    # print(texts[i].page_content)\n",
    "    texts_set.append(texts[i].page_content)\n",
    "# print(texts_set)"
   ]
  },
  {
   "cell_type": "code",
   "execution_count": 23,
   "metadata": {},
   "outputs": [],
   "source": [
    "\n",
    "vectors = embeddings.embed_documents(texts_set)"
   ]
  },
  {
   "cell_type": "code",
   "execution_count": 28,
   "metadata": {},
   "outputs": [
    {
     "name": "stdout",
     "output_type": "stream",
     "text": [
      "['Download', 'Download', 'Download', 'Download', 'Download']\n"
     ]
    },
    {
     "data": {
      "image/png": "[encoded data removed]",
      "text/plain": [
       "<Figure size 640x480 with 1 Axes>"
      ]
     },
     "metadata": {},
     "output_type": "display_data"
    },
    {
     "data": {
      "text/plain": [
       "array([[ 0.25156956, -0.06219112],\n",
       "       [ 0.30746195, -0.05132473],\n",
       "       [ 0.28369847, -0.06357868],\n",
       "       ...,\n",
       "       [-0.04435104,  0.05878972],\n",
       "       [-0.08781886, -0.0278104 ],\n",
       "       [-0.0780113 ,  0.03704596]])"
      ]
     },
     "execution_count": 28,
     "metadata": {},
     "output_type": "execute_result"
    }
   ],
   "source": [
    "query = 'What is medical insurance?'\n",
    "plot_vetors(query, embeddings,vectors)"
   ]
  }
 ],
 "metadata": {
  "kernelspec": {
   "display_name": "app",
   "language": "python",
   "name": "python3"
  },
  "language_info": {
   "codemirror_mode": {
    "name": "ipython",
    "version": 3
   },
   "file_extension": ".py",
   "mimetype": "text/x-python",
   "name": "python",
   "nbconvert_exporter": "python",
   "pygments_lexer": "ipython3",
   "version": "3.11.7"
  }
 },
 "nbformat": 4,
 "nbformat_minor": 2
}
